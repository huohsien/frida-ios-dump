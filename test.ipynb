{
 "cells": [
  {
   "cell_type": "code",
   "execution_count": 3,
   "metadata": {},
   "outputs": [
    {
     "name": "stdout",
     "output_type": "stream",
     "text": [
      "idx= 4 l=5\n",
      "idx= 5 l=6\n",
      "idx= 6 l=7\n"
     ]
    }
   ],
   "source": [
    "ls = [1,2,3,4,5,6,7,8]\n",
    "for idx,l in enumerate(ls[4:7],4):\n",
    "    print(\"idx= {} l={}\".format(idx, l))"
   ]
  }
 ],
 "metadata": {
  "kernelspec": {
   "display_name": "frida-ios-dump",
   "language": "python",
   "name": "python3"
  },
  "language_info": {
   "codemirror_mode": {
    "name": "ipython",
    "version": 3
   },
   "file_extension": ".py",
   "mimetype": "text/x-python",
   "name": "python",
   "nbconvert_exporter": "python",
   "pygments_lexer": "ipython3",
   "version": "3.9.17"
  },
  "orig_nbformat": 4
 },
 "nbformat": 4,
 "nbformat_minor": 2
}
