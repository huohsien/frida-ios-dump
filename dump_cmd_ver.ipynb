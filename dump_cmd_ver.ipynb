{
 "cells": [
  {
   "cell_type": "code",
   "execution_count": 1,
   "metadata": {},
   "outputs": [],
   "source": [
    "def get_usb_iphone():\n",
    "    Type = 'usb'\n",
    "    if int(frida.__version__.split('.')[0]) < 12:\n",
    "        Type = 'tether'\n",
    "    device_manager = frida.get_device_manager()\n",
    "    changed = threading.Event()\n",
    "\n",
    "    def on_changed():\n",
    "        changed.set()\n",
    "\n",
    "    device_manager.on('changed', on_changed)\n",
    "\n",
    "    device = None\n",
    "    while device is None:\n",
    "        devices = [dev for dev in device_manager.enumerate_devices() if dev.type == Type]\n",
    "        if len(devices) == 0:\n",
    "            print('Waiting for USB device...')\n",
    "            changed.wait()\n",
    "        else:\n",
    "            device = devices[0]\n",
    "\n",
    "    device_manager.off('changed', on_changed)\n",
    "\n",
    "    return device\n",
    "\n",
    "\n",
    "def generate_ipa(path, display_name):\n",
    "    ipa_filename = display_name + '.ipa'\n",
    "\n",
    "    print('Generating \"{}\"'.format(ipa_filename))\n",
    "    try:\n",
    "        app_name = file_dict['app']\n",
    "\n",
    "        for key, value in file_dict.items():\n",
    "            from_dir = os.path.join(path, key)\n",
    "            to_dir = os.path.join(path, app_name, value)\n",
    "            if key != 'app':\n",
    "                shutil.move(from_dir, to_dir)\n",
    "\n",
    "        target_dir = './' + PAYLOAD_DIR\n",
    "        zip_args = ('zip', '-qr', os.path.join(os.getcwd(),\"ipas\", ipa_filename), target_dir)\n",
    "        subprocess.check_call(zip_args, cwd=TEMP_DIR)\n",
    "        shutil.rmtree(PAYLOAD_PATH)\n",
    "    except Exception as e:\n",
    "        print(e)\n",
    "        finished.set()\n",
    "\n",
    "def on_message(message, data):\n",
    "    t = tqdm(unit='B',unit_scale=True,unit_divisor=1024,miniters=1)\n",
    "    last_sent = [0]\n",
    "\n",
    "    def progress(filename, size, sent):\n",
    "        baseName = os.path.basename(filename)\n",
    "        if IS_PY2 or isinstance(baseName, bytes):\n",
    "            t.desc = baseName.decode(\"utf-8\")\n",
    "        else:\n",
    "            t.desc = baseName\n",
    "        t.total = size\n",
    "        t.update(sent - last_sent[0])\n",
    "        last_sent[0] = 0 if size == sent else sent\n",
    "\n",
    "    if 'payload' in message:\n",
    "        payload = message['payload']\n",
    "        if 'dump' in payload:\n",
    "            origin_path = payload['path']\n",
    "            dump_path = payload['dump']\n",
    "\n",
    "            scp_from = dump_path\n",
    "            scp_to = PAYLOAD_PATH + '/'\n",
    "\n",
    "            with SCPClient(ssh.get_transport(), progress = progress, socket_timeout = 60) as scp:\n",
    "                scp.get(scp_from, scp_to)\n",
    "\n",
    "            chmod_dir = os.path.join(PAYLOAD_PATH, os.path.basename(dump_path))\n",
    "            chmod_args = ('chmod', '655', chmod_dir)\n",
    "            try:\n",
    "                subprocess.check_call(chmod_args)\n",
    "            except subprocess.CalledProcessError as err:\n",
    "                print(err)\n",
    "\n",
    "            index = origin_path.find('.app/')\n",
    "            file_dict[os.path.basename(dump_path)] = origin_path[index + 5:]\n",
    "\n",
    "        if 'app' in payload:\n",
    "            app_path = payload['app']\n",
    "\n",
    "            scp_from = app_path\n",
    "            scp_to = PAYLOAD_PATH + '/'\n",
    "            with SCPClient(ssh.get_transport(), progress = progress, socket_timeout = 60) as scp:\n",
    "                scp.get(scp_from, scp_to, recursive=True)\n",
    "\n",
    "            chmod_dir = os.path.join(PAYLOAD_PATH, os.path.basename(app_path))\n",
    "            chmod_args = ('chmod', '755', chmod_dir)\n",
    "            try:\n",
    "                subprocess.check_call(chmod_args)\n",
    "            except subprocess.CalledProcessError as err:\n",
    "                print(err)\n",
    "\n",
    "            file_dict['app'] = os.path.basename(app_path)\n",
    "\n",
    "        if 'done' in payload:\n",
    "            finished.set()\n",
    "    t.close()\n",
    "\n",
    "def compare_applications(a, b):\n",
    "    a_is_running = a.pid != 0\n",
    "    b_is_running = b.pid != 0\n",
    "    if a_is_running == b_is_running:\n",
    "        if a.name > b.name:\n",
    "            return 1\n",
    "        elif a.name < b.name:\n",
    "            return -1\n",
    "        else:\n",
    "            return 0\n",
    "    elif a_is_running:\n",
    "        return -1\n",
    "    else:\n",
    "        return 1\n",
    "\n",
    "\n",
    "def cmp_to_key(mycmp):\n",
    "    \"\"\"Convert a cmp= function into a key= function\"\"\"\n",
    "\n",
    "    class K:\n",
    "        def __init__(self, obj):\n",
    "            self.obj = obj\n",
    "\n",
    "        def __lt__(self, other):\n",
    "            return mycmp(self.obj, other.obj) < 0\n",
    "\n",
    "        def __gt__(self, other):\n",
    "            return mycmp(self.obj, other.obj) > 0\n",
    "\n",
    "        def __eq__(self, other):\n",
    "            return mycmp(self.obj, other.obj) == 0\n",
    "\n",
    "        def __le__(self, other):\n",
    "            return mycmp(self.obj, other.obj) <= 0\n",
    "\n",
    "        def __ge__(self, other):\n",
    "            return mycmp(self.obj, other.obj) >= 0\n",
    "\n",
    "        def __ne__(self, other):\n",
    "            return mycmp(self.obj, other.obj) != 0\n",
    "\n",
    "    return K\n",
    "\n",
    "\n",
    "def get_applications(device):\n",
    "    try:\n",
    "        applications = device.enumerate_applications()\n",
    "    except Exception as e:\n",
    "        sys.exit('Failed to enumerate applications: %s' % e)\n",
    "\n",
    "    return applications\n",
    "\n",
    "\n",
    "def list_applications(device):\n",
    "    applications = get_applications(device)\n",
    "\n",
    "    if len(applications) > 0:\n",
    "        pid_column_width = max(map(lambda app: len('{}'.format(app.pid)), applications))\n",
    "        name_column_width = max(map(lambda app: len(app.name), applications))\n",
    "        identifier_column_width = max(map(lambda app: len(app.identifier), applications))\n",
    "    else:\n",
    "        pid_column_width = 0\n",
    "        name_column_width = 0\n",
    "        identifier_column_width = 0\n",
    "\n",
    "    header_format = '%' + str(pid_column_width) + 's  ' + '%-' + str(name_column_width) + 's  ' + '%-' + str(\n",
    "        identifier_column_width) + 's'\n",
    "    print(header_format % ('PID', 'Name', 'Identifier'))\n",
    "    print('%s  %s  %s' % (pid_column_width * '-', name_column_width * '-', identifier_column_width * '-'))\n",
    "    line_format = '%' + str(pid_column_width) + 's  ' + '%-' + str(name_column_width) + 's  ' + '%-' + str(\n",
    "        identifier_column_width) + 's'\n",
    "    for application in sorted(applications, key=cmp_to_key(compare_applications)):\n",
    "        if application.pid == 0:\n",
    "            print(line_format % ('-', application.name, application.identifier))\n",
    "        else:\n",
    "            print(line_format % (application.pid, application.name, application.identifier))\n",
    "\n",
    "def get_application_IDs():\n",
    "    applications = get_applications(device)\n",
    "    app_ids = []\n",
    "    for application in sorted(applications, key=cmp_to_key(compare_applications)):\n",
    "        app_ids.append(application.identifier)\n",
    "    return app_ids\n",
    "\n",
    "\n",
    "def load_js_file(session, filename):\n",
    "    source = ''\n",
    "    with codecs.open(filename, 'r', 'utf-8') as f:\n",
    "        source = source + f.read()\n",
    "    script = session.create_script(source)\n",
    "    script.on('message', on_message)\n",
    "    script.load()\n",
    "\n",
    "    return script\n",
    "\n",
    "\n",
    "def create_dir(path):\n",
    "    path = path.strip()\n",
    "    path = path.rstrip('\\\\')\n",
    "    if os.path.exists(path):\n",
    "        shutil.rmtree(path)\n",
    "    try:\n",
    "        os.makedirs(path)\n",
    "    except os.error as err:\n",
    "        print(err)\n",
    "\n",
    "\n",
    "def open_target_app(device, name_or_bundleid):\n",
    "    print('Start the target app {}'.format(name_or_bundleid))\n",
    "\n",
    "    pid = ''\n",
    "    session = None\n",
    "    display_name = ''\n",
    "    bundle_identifier = ''\n",
    "    for application in get_applications(device):\n",
    "        if name_or_bundleid == application.identifier or name_or_bundleid == application.name:\n",
    "            pid = application.pid\n",
    "            display_name = application.name\n",
    "            bundle_identifier = application.identifier\n",
    "\n",
    "    try:\n",
    "        if not pid:\n",
    "            pid = device.spawn([bundle_identifier])\n",
    "            session = device.attach(pid)\n",
    "            device.resume(pid)\n",
    "        else:\n",
    "            session = device.attach(pid)\n",
    "    except Exception as e:\n",
    "        print(e) \n",
    "\n",
    "    return session, display_name, bundle_identifier\n",
    "\n",
    "\n",
    "def start_dump(session, ipa_name):\n",
    "    print('Dumping {} to {}'.format(display_name, TEMP_DIR))\n",
    "\n",
    "    script = load_js_file(session, DUMP_JS)\n",
    "    script.post('dump')\n",
    "    finished.wait()\n",
    "\n",
    "    generate_ipa(PAYLOAD_PATH, ipa_name)\n",
    "\n",
    "    if session:\n",
    "        session.detach()"
   ]
  },
  {
   "cell_type": "code",
   "execution_count": 2,
   "metadata": {},
   "outputs": [],
   "source": [
    "from __future__ import print_function\n",
    "from __future__ import unicode_literals\n",
    "import sys\n",
    "import codecs\n",
    "import frida\n",
    "import threading\n",
    "import os\n",
    "import shutil\n",
    "import time\n",
    "import argparse\n",
    "import tempfile\n",
    "import subprocess\n",
    "import re\n",
    "import paramiko\n",
    "from paramiko import SSHClient\n",
    "from scp import SCPClient\n",
    "from tqdm import tqdm\n",
    "import traceback\n",
    "\n",
    "IS_PY2 = sys.version_info[0] < 3\n",
    "if IS_PY2:\n",
    "    reload(sys)\n",
    "    sys.setdefaultencoding('utf8')\n",
    "    \n",
    "DUMP_JS = './dump.js'\n",
    "\n",
    "User = 'root'\n",
    "Password = 'jj1216'\n",
    "Host = 'localhost'\n",
    "Port = 2222\n",
    "KeyFileName = None"
   ]
  },
  {
   "cell_type": "code",
   "execution_count": 3,
   "metadata": {},
   "outputs": [
    {
     "name": "stdout",
     "output_type": "stream",
     "text": [
      "Waiting for USB device...\n"
     ]
    }
   ],
   "source": [
    "device = get_usb_iphone()\n",
    "\n",
    "app_ids = []\n",
    "if os.path.exists(\"./apps_list.txt\"):\n",
    "    with open(\"./apps_list.txt\",\"r\") as text_file:\n",
    "        for line in text_file:\n",
    "            app_ids.append(line.rstrip())\n",
    "\n",
    "else:\n",
    "    \n",
    "    app_ids = get_application_IDs()\n",
    "    for app_id in app_ids:\n",
    "\n",
    "        with open(\"apps_list.txt\",\"a\") as text_file:\n",
    "            text_file.write(app_id+\"\\n\")"
   ]
  },
  {
   "cell_type": "code",
   "execution_count": 4,
   "metadata": {},
   "outputs": [
    {
     "data": {
      "text/plain": [
       "['com.apple.mobilemail',\n",
       " 'com.adobe.Adobe-Reader',\n",
       " 'com.ZWQWGRSN4T.com.rileytestut.AltStore',\n",
       " 'com.apple.AppStore',\n",
       " 'com.apple.iBooks',\n",
       " 'U com.dirtybeans.CSources2',\n",
       " 'com.apple.calculator',\n",
       " 'com.apple.mobilecal',\n",
       " 'com.intsig.camcard.eng',\n",
       " 'com.intsig.camcard',\n",
       " 'com.intsig.CamScanner',\n",
       " 'com.intsig.CamScannerPro',\n",
       " 'com.apple.camera',\n",
       " 'com.taptaptap.CameraPlus',\n",
       " 'com.cardiio.cardiio.iphone',\n",
       " 'com.google.chrome.ios',\n",
       " 'com.apple.mobiletimer',\n",
       " 'com.apple.compass',\n",
       " 'com.apple.itunesconnect.mobile',\n",
       " 'com.apple.MobileAddressBook',\n",
       " 'com.google.GooglePlus',\n",
       " 'com.saurik.Cydia',\n",
       " 'com.digitimes.digitimes-news-adhoc',\n",
       " 'com.dji.mimo',\n",
       " 'com.hivebrain.DeepSleep',\n",
       " 'com.reference.dictionary.dictionary',\n",
       " 'com.getdropbox.Dropbox',\n",
       " 'com.flir.consumer.flir.cloud',\n",
       " 'com.flir.consumer.fx',\n",
       " 'com.flir.one',\n",
       " 'com.flir.tools',\n",
       " 'com.apple.facetime',\n",
       " 'com.facebook.Facebook',\n",
       " 'com.apple.DocumentsApp',\n",
       " 'com.apple.mobileme.fmf1',\n",
       " 'com.apple.mobileme.fmip1',\n",
       " 'com.google.Maps',\n",
       " 'com.apple.Health',\n",
       " 'com.apple.Home',\n",
       " 'com.burbn.instagram',\n",
       " 'com.intel.ark',\n",
       " 'tw.com.skysoft.iPhone',\n",
       " 'com.kkbox.kktix',\n",
       " 'com.amazon.Lassen',\n",
       " 'com.apple.Maps',\n",
       " 'com.meitu.mtxx',\n",
       " 'com.apple.MobileSMS',\n",
       " 'com.mbientlab.MetaWearAPITest',\n",
       " 'com.sonicPenguins.MuseMonitor',\n",
       " 'com.fullpower.GPS',\n",
       " 'com.ti.sc.blemultitool',\n",
       " 'com.interaxon.muse',\n",
       " 'com.apple.Music',\n",
       " 'com.google.MyGlass',\n",
       " 'com.apple.mobilenotes',\n",
       " 'com.apple.Numbers',\n",
       " 'com.flir.consumer.FLIRONEPaint',\n",
       " 'com.apple.mobilephone',\n",
       " 'com.apple.mobileslideshow',\n",
       " 'pinterest',\n",
       " 'com.apple.podcasts',\n",
       " 'U com.tencent.mqq',\n",
       " 'com.TapMediaLtd.QRReader',\n",
       " 'com.realvnc.VNCViewer',\n",
       " 'com.bytereal.RealKit',\n",
       " 'com.apple.reminders',\n",
       " 'com.apple.Remote',\n",
       " 'com.google.ChromeRemoteDesktop',\n",
       " 'com.apple.mobilesafari',\n",
       " 'com.apple.Preferences',\n",
       " 'com.evernote.Skitch.iPad',\n",
       " 'com.skype.skype',\n",
       " 'com.ookla.speedtest',\n",
       " 'com.starbucks.tw',\n",
       " 'com.apple.stocks',\n",
       " 'com.ex.substitute.settings',\n",
       " 'com.trueconcept.trueyogaapp',\n",
       " 'com.tw.truegroup.cbss.flutter',\n",
       " 'com.apple.tv',\n",
       " 'com.officialscheduler.mterminal',\n",
       " 'com.tplink.tether',\n",
       " 'com.apple.tips',\n",
       " 'com.google.Translate',\n",
       " 'org.videolan.vlc-ios',\n",
       " 'com.apple.VoiceMemos',\n",
       " 'com.apple.Passbook',\n",
       " 'com.apple.Bridge',\n",
       " 'com.tencent.xin',\n",
       " 'com.apple.weather',\n",
       " 'com.google.ios.youtube',\n",
       " 'net.coolword.favicons',\n",
       " 'com.apple.MobileStore',\n",
       " 't2a.clock',\n",
       " 'com.flir.consumer.thermalscavengerhunt',\n",
       " 'science.xnu.undecimus.ZWQWGRSN4T',\n",
       " 'net.whatsapp.WhatsApp',\n",
       " 'tw.com.familygourmet.FIGapp',\n",
       " 'tw.com.taiwantaxi.CallStation',\n",
       " 'com.VHHC.VCReader',\n",
       " 'com.zhangyue.zyiReader.iReaderInt',\n",
       " 'cn.zhangyunbook.inovel',\n",
       " 'com.kingway.GotchaTransit',\n",
       " 'com.taobao.taobao4iphone',\n",
       " 'm.qidian.QDReaderAppStore']"
      ]
     },
     "execution_count": 4,
     "metadata": {},
     "output_type": "execute_result"
    }
   ],
   "source": [
    "app_ids"
   ]
  },
  {
   "cell_type": "code",
   "execution_count": 5,
   "metadata": {},
   "outputs": [],
   "source": [
    "import subprocess"
   ]
  },
  {
   "cell_type": "code",
   "execution_count": 7,
   "metadata": {},
   "outputs": [
    {
     "name": "stdout",
     "output_type": "stream",
     "text": [
      "idx= 100\n",
      "Start the target app cn.zhangyunbook.inovel\n",
      "Dumping 掌雲書城 to /var/folders/42/14b610s56kqckbgzdq8gf5m80000gn/T\n",
      "[frida-ios-dump]: Load Branch.framework success. \n",
      "[frida-ios-dump]: FirebaseCore.framework has been loaded. \n",
      "[frida-ios-dump]: Load FirebaseInstanceID.framework success. \n",
      "[frida-ios-dump]: Load FLAnimatedImage.framework success. \n",
      "[frida-ios-dump]: Load YYText.framework success. \n",
      "[frida-ios-dump]: Load TZImagePickerController.framework success. \n",
      "[frida-ios-dump]: Load OpenUDID.framework success. \n",
      "[frida-ios-dump]: Load HappyDNS.framework success. \n",
      "[frida-ios-dump]: Load FBLPromises.framework success. \n",
      "[frida-ios-dump]: Load FMDB.framework success. \n",
      "[frida-ios-dump]: Load CRBoxInputView.framework success. \n",
      "[frida-ios-dump]: Load SZTextView.framework success. \n",
      "[frida-ios-dump]: Load FirebaseInstallations.framework success. \n",
      "[frida-ios-dump]: Load AFNetworking.framework success. \n",
      "[frida-ios-dump]: Load Mantle.framework success. \n",
      "[frida-ios-dump]: Load FirebaseCoreDiagnostics.framework success. \n",
      "[frida-ios-dump]: IQKeyboardManager.framework has been loaded. \n",
      "[frida-ios-dump]: Load YTKKeyValueStore.framework success. \n",
      "[frida-ios-dump]: Load Masonry.framework success. \n",
      "[frida-ios-dump]: Load MDFInternationalization.framework success. \n",
      "[frida-ios-dump]: Load YYModel.framework success. \n",
      "[frida-ios-dump]: Load MJRefresh.framework success. \n",
      "[frida-ios-dump]: Load Aspects.framework success. \n",
      "[frida-ios-dump]: Load GoogleUtilities.framework success. \n",
      "[frida-ios-dump]: Load SDWebImageFLPlugin.framework success. \n",
      "[frida-ios-dump]: Load iCarousel.framework success. \n",
      "[frida-ios-dump]: Load RTRootNavigationController.framework success. \n",
      "[frida-ios-dump]: Load KSPhotoBrowser.framework success. \n",
      "[frida-ios-dump]: Load nanopb.framework success. \n",
      "[frida-ios-dump]: Load SSZipArchive.framework success. \n",
      "[frida-ios-dump]: Load MMDrawerController.framework success. \n",
      "[frida-ios-dump]: Load FBSDKCoreKit.framework success. \n",
      "[frida-ios-dump]: Load GoogleDataTransport.framework success. \n",
      "[frida-ios-dump]: Load SDWebImage.framework success. \n",
      "[frida-ios-dump]: Load UICKeyChainStore.framework success. \n",
      "[frida-ios-dump]: Load TTTAttributedLabel.framework success. \n",
      "[frida-ios-dump]: Load MaterialComponents.framework success. \n",
      "[frida-ios-dump]: Load FGReverser.framework success. \n",
      "[frida-ios-dump]: Load ReactiveObjC.framework success. \n",
      "[frida-ios-dump]: Load Qiniu.framework success. \n",
      "[frida-ios-dump]: Load JXPagingView.framework success. \n",
      "[frida-ios-dump]: Load TTGTagCollectionView.framework success. \n",
      "[frida-ios-dump]: Load JXCategoryView.framework success. \n",
      "[frida-ios-dump]: Load FCUUID.framework success. \n",
      "[frida-ios-dump]: Load FirebaseMessaging.framework success. \n",
      "[frida-ios-dump]: Load MDFTextAccessibility.framework success. \n",
      "[frida-ios-dump]: Load MBProgressHUD.framework success. \n",
      "[frida-ios-dump]: Load SQLCipher.framework success. \n",
      "[frida-ios-dump]: Load FirebaseCrashlytics.framework success. \n",
      "[frida-ios-dump]: Load JJException.framework success. \n",
      "[frida-ios-dump]: Load PureLayout.framework success. \n",
      "[frida-ios-dump]: Load YBPopupMenu.framework success. \n",
      "[frida-ios-dump]: Load Toast.framework success. \n",
      "[frida-ios-dump]: Load YTKNetwork.framework success. \n",
      "start dump /var/containers/Bundle/Application/A7D42304-5466-4809-A444-C046D00607AC/掌雲書城.app/掌雲書城\n"
     ]
    },
    {
     "name": "stderr",
     "output_type": "stream",
     "text": [
      "掌雲書城.fid: 100%|██████████| 19.3M/19.3M [00:07<00:00, 2.82MB/s]  \n",
      "0.00B [00:00, ?B/s]"
     ]
    },
    {
     "name": "stdout",
     "output_type": "stream",
     "text": [
      "start dump /private/var/containers/Bundle/Application/A7D42304-5466-4809-A444-C046D00607AC/掌雲書城.app/Frameworks/AFNetworking.framework/AFNetworking\n",
      "start dump /private/var/containers/Bundle/Application/A7D42304-5466-4809-A444-C046D00607AC/掌雲書城.app/Frameworks/Aspects.framework/Aspects\n"
     ]
    },
    {
     "name": "stderr",
     "output_type": "stream",
     "text": [
      "\r",
      "AFNetworking.fid:   3%|▎         | 16.0k/532k [00:00<00:03, 137kB/s]\r",
      "AFNetworking.fid: 100%|██████████| 532k/532k [00:00<00:00, 3.36MB/s]\n",
      "\r",
      "0.00B [00:00, ?B/s]\r",
      "Aspects.fid:  13%|█▎        | 16.0k/125k [00:00<00:00, 139kB/s]\r",
      "Aspects.fid: 100%|██████████| 125k/125k [00:00<00:00, 886kB/s] \n",
      "\r",
      "0.00B [00:00, ?B/s]"
     ]
    },
    {
     "name": "stdout",
     "output_type": "stream",
     "text": [
      "start dump /private/var/containers/Bundle/Application/A7D42304-5466-4809-A444-C046D00607AC/掌雲書城.app/Frameworks/Branch.framework/Branch\n",
      "start dump /private/var/containers/Bundle/Application/A7D42304-5466-4809-A444-C046D00607AC/掌雲書城.app/Frameworks/CRBoxInputView.framework/CRBoxInputView\n"
     ]
    },
    {
     "name": "stderr",
     "output_type": "stream",
     "text": [
      "\r",
      "Branch.fid:   1%|▏         | 16.0k/1.11M [00:00<00:08, 134kB/s]\r",
      "Branch.fid: 100%|██████████| 1.11M/1.11M [00:00<00:00, 6.29MB/s]\n",
      "\r",
      "0.00B [00:00, ?B/s]\r",
      "CRBoxInputView.fid:   7%|▋         | 16.0k/216k [00:00<00:01, 150kB/s]\r",
      "CRBoxInputView.fid: 100%|██████████| 216k/216k [00:00<00:00, 1.61MB/s]\n"
     ]
    },
    {
     "name": "stdout",
     "output_type": "stream",
     "text": [
      "start dump /private/var/containers/Bundle/Application/A7D42304-5466-4809-A444-C046D00607AC/掌雲書城.app/Frameworks/FBLPromises.framework/FBLPromises\n",
      "start dump /private/var/containers/Bundle/Application/A7D42304-5466-4809-A444-C046D00607AC/掌雲書城.app/Frameworks/FBSDKCoreKit.framework/FBSDKCoreKit\n"
     ]
    },
    {
     "name": "stderr",
     "output_type": "stream",
     "text": [
      "FBLPromises.fid: 100%|██████████| 187k/187k [00:00<00:00, 1.38MB/s]\n",
      "FBSDKCoreKit.fid: 100%|██████████| 1.71M/1.71M [00:00<00:00, 10.6MB/s]\n",
      "FCUUID.fid: 100%|██████████| 114k/114k [00:00<00:00, 1.01MB/s]\n",
      "0.00B [00:00, ?B/s]"
     ]
    },
    {
     "name": "stdout",
     "output_type": "stream",
     "text": [
      "start dump /private/var/containers/Bundle/Application/A7D42304-5466-4809-A444-C046D00607AC/掌雲書城.app/Frameworks/FCUUID.framework/FCUUID\n",
      "start dump /private/var/containers/Bundle/Application/A7D42304-5466-4809-A444-C046D00607AC/掌雲書城.app/Frameworks/FGReverser.framework/FGReverser\n"
     ]
    },
    {
     "name": "stderr",
     "output_type": "stream",
     "text": [
      "\r",
      "FGReverser.fid:   6%|▌         | 16.0k/283k [00:00<00:01, 155kB/s]\r",
      "FGReverser.fid: 100%|██████████| 283k/283k [00:00<00:00, 2.19MB/s]\n",
      "\r",
      "0.00B [00:00, ?B/s]\r",
      "FLAnimatedImage.fid:  10%|█         | 16.0k/157k [00:00<00:00, 153kB/s]\r",
      "FLAnimatedImage.fid: 100%|██████████| 157k/157k [00:00<00:00, 1.30MB/s]\n",
      "\r",
      "0.00B [00:00, ?B/s]"
     ]
    },
    {
     "name": "stdout",
     "output_type": "stream",
     "text": [
      "start dump /private/var/containers/Bundle/Application/A7D42304-5466-4809-A444-C046D00607AC/掌雲書城.app/Frameworks/FLAnimatedImage.framework/FLAnimatedImage\n",
      "start dump /private/var/containers/Bundle/Application/A7D42304-5466-4809-A444-C046D00607AC/掌雲書城.app/Frameworks/FMDB.framework/FMDB\n"
     ]
    },
    {
     "name": "stderr",
     "output_type": "stream",
     "text": [
      "\r",
      "FMDB.fid:   7%|▋         | 16.0k/217k [00:00<00:01, 149kB/s]\r",
      "FMDB.fid: 100%|██████████| 217k/217k [00:00<00:00, 1.73MB/s]\n",
      "\r",
      "0.00B [00:00, ?B/s]\r",
      "FirebaseCore.fid:   8%|▊         | 16.0k/190k [00:00<00:01, 132kB/s]\r",
      "FirebaseCore.fid: 100%|██████████| 190k/190k [00:00<00:00, 1.32MB/s]\n",
      "\r",
      "0.00B [00:00, ?B/s]"
     ]
    },
    {
     "name": "stdout",
     "output_type": "stream",
     "text": [
      "start dump /private/var/containers/Bundle/Application/A7D42304-5466-4809-A444-C046D00607AC/掌雲書城.app/Frameworks/FirebaseCore.framework/FirebaseCore\n",
      "start dump /private/var/containers/Bundle/Application/A7D42304-5466-4809-A444-C046D00607AC/掌雲書城.app/Frameworks/FirebaseCoreDiagnostics.framework/FirebaseCoreDiagnostics\n"
     ]
    },
    {
     "name": "stderr",
     "output_type": "stream",
     "text": [
      "\r",
      "FirebaseCoreDiagnostics.fid:  19%|█▉        | 16.0k/83.5k [00:00<00:00, 135kB/s]\r",
      "FirebaseCoreDiagnostics.fid: 100%|██████████| 83.5k/83.5k [00:00<00:00, 604kB/s]\n",
      "\r",
      "0.00B [00:00, ?B/s]\r",
      "FirebaseCrashlytics.fid:   2%|▏         | 16.0k/732k [00:00<00:04, 150kB/s]\r",
      "FirebaseCrashlytics.fid: 100%|██████████| 732k/732k [00:00<00:00, 5.31MB/s]\n",
      "\r",
      "0.00B [00:00, ?B/s]"
     ]
    },
    {
     "name": "stdout",
     "output_type": "stream",
     "text": [
      "start dump /private/var/containers/Bundle/Application/A7D42304-5466-4809-A444-C046D00607AC/掌雲書城.app/Frameworks/FirebaseCrashlytics.framework/FirebaseCrashlytics\n",
      "start dump /private/var/containers/Bundle/Application/A7D42304-5466-4809-A444-C046D00607AC/掌雲書城.app/Frameworks/FirebaseInstallations.framework/FirebaseInstallations\n"
     ]
    },
    {
     "name": "stderr",
     "output_type": "stream",
     "text": [
      "\r",
      "FirebaseInstallations.fid: 100%|██████████| 277k/277k [00:00<00:00, 2.48MB/s]\n",
      "\r",
      "0.00B [00:00, ?B/s]\r",
      "FirebaseInstanceID.fid:   5%|▍         | 16.0k/328k [00:00<00:02, 158kB/s]\r",
      "FirebaseInstanceID.fid: 100%|██████████| 328k/328k [00:00<00:00, 2.63MB/s]\n",
      "\r",
      "0.00B [00:00, ?B/s]"
     ]
    },
    {
     "name": "stdout",
     "output_type": "stream",
     "text": [
      "start dump /private/var/containers/Bundle/Application/A7D42304-5466-4809-A444-C046D00607AC/掌雲書城.app/Frameworks/FirebaseInstanceID.framework/FirebaseInstanceID\n",
      "start dump /private/var/containers/Bundle/Application/A7D42304-5466-4809-A444-C046D00607AC/掌雲書城.app/Frameworks/FirebaseMessaging.framework/FirebaseMessaging\n"
     ]
    },
    {
     "name": "stderr",
     "output_type": "stream",
     "text": [
      "\r",
      "FirebaseMessaging.fid:   5%|▍         | 16.0k/325k [00:00<00:02, 155kB/s]\r",
      "FirebaseMessaging.fid: 100%|██████████| 325k/325k [00:00<00:00, 1.98MB/s]\n",
      "\r",
      "0.00B [00:00, ?B/s]\r",
      "GoogleDataTransport.fid:   5%|▌         | 16.0k/315k [00:00<00:02, 152kB/s]\r",
      "GoogleDataTransport.fid: 100%|██████████| 315k/315k [00:00<00:00, 2.50MB/s]\n",
      "\r",
      "0.00B [00:00, ?B/s]"
     ]
    },
    {
     "name": "stdout",
     "output_type": "stream",
     "text": [
      "start dump /private/var/containers/Bundle/Application/A7D42304-5466-4809-A444-C046D00607AC/掌雲書城.app/Frameworks/GoogleDataTransport.framework/GoogleDataTransport\n",
      "start dump /private/var/containers/Bundle/Application/A7D42304-5466-4809-A444-C046D00607AC/掌雲書城.app/Frameworks/GoogleUtilities.framework/GoogleUtilities\n"
     ]
    },
    {
     "name": "stderr",
     "output_type": "stream",
     "text": [
      "\r",
      "GoogleUtilities.fid:   6%|▌         | 16.0k/288k [00:00<00:01, 161kB/s]\r",
      "GoogleUtilities.fid: 100%|██████████| 288k/288k [00:00<00:00, 2.31MB/s]\n",
      "\r",
      "0.00B [00:00, ?B/s]\r",
      "HappyDNS.fid:   8%|▊         | 16.0k/194k [00:00<00:01, 141kB/s]\r",
      "HappyDNS.fid: 100%|██████████| 194k/194k [00:00<00:00, 1.44MB/s]\n",
      "\r",
      "0.00B [00:00, ?B/s]"
     ]
    },
    {
     "name": "stdout",
     "output_type": "stream",
     "text": [
      "start dump /private/var/containers/Bundle/Application/A7D42304-5466-4809-A444-C046D00607AC/掌雲書城.app/Frameworks/HappyDNS.framework/HappyDNS\n",
      "start dump /private/var/containers/Bundle/Application/A7D42304-5466-4809-A444-C046D00607AC/掌雲書城.app/Frameworks/IQKeyboardManager.framework/IQKeyboardManager\n"
     ]
    },
    {
     "name": "stderr",
     "output_type": "stream",
     "text": [
      "\r",
      "IQKeyboardManager.fid:   5%|▍         | 16.0k/352k [00:00<00:02, 158kB/s]\r",
      "IQKeyboardManager.fid: 100%|██████████| 352k/352k [00:00<00:00, 2.82MB/s]\n",
      "\r",
      "0.00B [00:00, ?B/s]\r",
      "JJException.fid:  60%|██████    | 128k/212k [00:00<00:00, 1.31MB/s]\r",
      "JJException.fid: 100%|██████████| 212k/212k [00:00<00:00, 1.81MB/s]\n",
      "\r",
      "0.00B [00:00, ?B/s]"
     ]
    },
    {
     "name": "stdout",
     "output_type": "stream",
     "text": [
      "start dump /private/var/containers/Bundle/Application/A7D42304-5466-4809-A444-C046D00607AC/掌雲書城.app/Frameworks/JJException.framework/JJException\n",
      "start dump /private/var/containers/Bundle/Application/A7D42304-5466-4809-A444-C046D00607AC/掌雲書城.app/Frameworks/JXCategoryView.framework/JXCategoryView\n"
     ]
    },
    {
     "name": "stderr",
     "output_type": "stream",
     "text": [
      "\r",
      "JXCategoryView.fid:   3%|▎         | 16.0k/512k [00:00<00:03, 162kB/s]\r",
      "JXCategoryView.fid: 100%|██████████| 512k/512k [00:00<00:00, 3.86MB/s]\n",
      "\r",
      "0.00B [00:00, ?B/s]\r",
      "JXPagingView.fid:   7%|▋         | 16.0k/238k [00:00<00:01, 156kB/s]\r",
      "JXPagingView.fid: 100%|██████████| 238k/238k [00:00<00:00, 1.78MB/s]\n",
      "\r",
      "0.00B [00:00, ?B/s]"
     ]
    },
    {
     "name": "stdout",
     "output_type": "stream",
     "text": [
      "start dump /private/var/containers/Bundle/Application/A7D42304-5466-4809-A444-C046D00607AC/掌雲書城.app/Frameworks/JXPagingView.framework/JXPagingView\n",
      "start dump /private/var/containers/Bundle/Application/A7D42304-5466-4809-A444-C046D00607AC/掌雲書城.app/Frameworks/KSPhotoBrowser.framework/KSPhotoBrowser\n"
     ]
    },
    {
     "name": "stderr",
     "output_type": "stream",
     "text": [
      "\r",
      "KSPhotoBrowser.fid:   8%|▊         | 16.0k/211k [00:00<00:01, 132kB/s]\r",
      "KSPhotoBrowser.fid: 100%|██████████| 211k/211k [00:00<00:00, 1.33MB/s]\n",
      "\r",
      "0.00B [00:00, ?B/s]\r",
      "MBProgressHUD.fid: 100%|██████████| 158k/158k [00:00<00:00, 1.78MB/s]\n",
      "\r",
      "0.00B [00:00, ?B/s]"
     ]
    },
    {
     "name": "stdout",
     "output_type": "stream",
     "text": [
      "start dump /private/var/containers/Bundle/Application/A7D42304-5466-4809-A444-C046D00607AC/掌雲書城.app/Frameworks/MBProgressHUD.framework/MBProgressHUD\n",
      "start dump /private/var/containers/Bundle/Application/A7D42304-5466-4809-A444-C046D00607AC/掌雲書城.app/Frameworks/MDFInternationalization.framework/MDFInternationalization\n",
      "start dump /private/var/containers/Bundle/Application/A7D42304-5466-4809-A444-C046D00607AC/掌雲書城.app/Frameworks/MDFTextAccessibility.framework/MDFTextAccessibility\n"
     ]
    },
    {
     "name": "stderr",
     "output_type": "stream",
     "text": [
      "\r",
      "MDFInternationalization.fid: 100%|██████████| 95.2k/95.2k [00:00<00:00, 1.04MB/s]\n",
      "\r",
      "0.00B [00:00, ?B/s]\r",
      "MDFTextAccessibility.fid: 100%|██████████| 96.4k/96.4k [00:00<00:00, 900kB/s]\n",
      "\r",
      "0.00B [00:00, ?B/s]"
     ]
    },
    {
     "name": "stdout",
     "output_type": "stream",
     "text": [
      "start dump /private/var/containers/Bundle/Application/A7D42304-5466-4809-A444-C046D00607AC/掌雲書城.app/Frameworks/MJRefresh.framework/MJRefresh\n"
     ]
    },
    {
     "name": "stderr",
     "output_type": "stream",
     "text": [
      "\r",
      "MJRefresh.fid:   6%|▌         | 16.0k/270k [00:00<00:02, 95.9kB/s]\r",
      "MJRefresh.fid:  41%|████▏     | 112k/270k [00:00<00:00, 481kB/s]  \r",
      "MJRefresh.fid: 100%|██████████| 270k/270k [00:00<00:00, 823kB/s]\n",
      "\r",
      "0.00B [00:00, ?B/s]"
     ]
    },
    {
     "name": "stdout",
     "output_type": "stream",
     "text": [
      "start dump /private/var/containers/Bundle/Application/A7D42304-5466-4809-A444-C046D00607AC/掌雲書城.app/Frameworks/MMDrawerController.framework/MMDrawerController\n",
      "start dump /private/var/containers/Bundle/Application/A7D42304-5466-4809-A444-C046D00607AC/掌雲書城.app/Frameworks/Mantle.framework/Mantle\n"
     ]
    },
    {
     "name": "stderr",
     "output_type": "stream",
     "text": [
      "\r",
      "MMDrawerController.fid: 100%|██████████| 194k/194k [00:00<00:00, 1.73MB/s]\n",
      "\r",
      "0.00B [00:00, ?B/s]\r",
      "Mantle.fid:   7%|▋         | 16.0k/235k [00:00<00:01, 161kB/s]\r",
      "Mantle.fid: 100%|██████████| 235k/235k [00:00<00:00, 1.94MB/s]\n",
      "\r",
      "0.00B [00:00, ?B/s]"
     ]
    },
    {
     "name": "stdout",
     "output_type": "stream",
     "text": [
      "start dump /private/var/containers/Bundle/Application/A7D42304-5466-4809-A444-C046D00607AC/掌雲書城.app/Frameworks/Masonry.framework/Masonry\n",
      "start dump /private/var/containers/Bundle/Application/A7D42304-5466-4809-A444-C046D00607AC/掌雲書城.app/Frameworks/MaterialComponents.framework/MaterialComponents\n"
     ]
    },
    {
     "name": "stderr",
     "output_type": "stream",
     "text": [
      "\r",
      "Masonry.fid:   7%|▋         | 16.0k/217k [00:00<00:01, 161kB/s]\r",
      "Masonry.fid: 100%|██████████| 217k/217k [00:00<00:00, 1.50MB/s]\n",
      "\r",
      "0.00B [00:00, ?B/s]\r",
      "MaterialComponents.fid:   1%|▏         | 16.0k/1.21M [00:00<00:07, 159kB/s]\r",
      "MaterialComponents.fid: 100%|██████████| 1.21M/1.21M [00:00<00:00, 8.66MB/s]\n",
      "\r",
      "0.00B [00:00, ?B/s]"
     ]
    },
    {
     "name": "stdout",
     "output_type": "stream",
     "text": [
      "start dump /private/var/containers/Bundle/Application/A7D42304-5466-4809-A444-C046D00607AC/掌雲書城.app/Frameworks/OpenUDID.framework/OpenUDID\n",
      "start dump /private/var/containers/Bundle/Application/A7D42304-5466-4809-A444-C046D00607AC/掌雲書城.app/Frameworks/PureLayout.framework/PureLayout\n"
     ]
    },
    {
     "name": "stderr",
     "output_type": "stream",
     "text": [
      "\r",
      "OpenUDID.fid:  18%|█▊        | 16.0k/88.1k [00:00<00:00, 162kB/s]\r",
      "OpenUDID.fid: 100%|██████████| 88.1k/88.1k [00:00<00:00, 740kB/s]\n",
      "\r",
      "0.00B [00:00, ?B/s]\r",
      "PureLayout.fid:  13%|█▎        | 16.0k/122k [00:00<00:00, 155kB/s]\r",
      "PureLayout.fid: 100%|██████████| 122k/122k [00:00<00:00, 994kB/s] \n",
      "\r",
      "0.00B [00:00, ?B/s]"
     ]
    },
    {
     "name": "stdout",
     "output_type": "stream",
     "text": [
      "start dump /private/var/containers/Bundle/Application/A7D42304-5466-4809-A444-C046D00607AC/掌雲書城.app/Frameworks/Qiniu.framework/Qiniu\n",
      "start dump /private/var/containers/Bundle/Application/A7D42304-5466-4809-A444-C046D00607AC/掌雲書城.app/Frameworks/RTRootNavigationController.framework/RTRootNavigationController\n"
     ]
    },
    {
     "name": "stderr",
     "output_type": "stream",
     "text": [
      "\r",
      "Qiniu.fid:   2%|▏         | 16.0k/809k [00:00<00:05, 151kB/s]\r",
      "Qiniu.fid: 100%|██████████| 809k/809k [00:00<00:00, 5.82MB/s]\n",
      "\r",
      "0.00B [00:00, ?B/s]\r",
      "RTRootNavigationController.fid:  10%|█         | 16.0k/159k [00:00<00:00, 156kB/s]\r",
      "RTRootNavigationController.fid: 100%|██████████| 159k/159k [00:00<00:00, 1.30MB/s]\n",
      "\r",
      "0.00B [00:00, ?B/s]"
     ]
    },
    {
     "name": "stdout",
     "output_type": "stream",
     "text": [
      "start dump /private/var/containers/Bundle/Application/A7D42304-5466-4809-A444-C046D00607AC/掌雲書城.app/Frameworks/ReactiveObjC.framework/ReactiveObjC\n",
      "start dump /private/var/containers/Bundle/Application/A7D42304-5466-4809-A444-C046D00607AC/掌雲書城.app/Frameworks/SDWebImage.framework/SDWebImage\n"
     ]
    },
    {
     "name": "stderr",
     "output_type": "stream",
     "text": [
      "\r",
      "ReactiveObjC.fid:   6%|▋         | 48.0k/746k [00:00<00:01, 489kB/s]\r",
      "ReactiveObjC.fid: 100%|██████████| 746k/746k [00:00<00:00, 5.74MB/s]\n",
      "\r",
      "0.00B [00:00, ?B/s]\r",
      "SDWebImage.fid:   2%|▏         | 16.0k/912k [00:00<00:05, 158kB/s]\r",
      "SDWebImage.fid: 100%|██████████| 912k/912k [00:00<00:00, 6.61MB/s]\n",
      "\r",
      "0.00B [00:00, ?B/s]"
     ]
    },
    {
     "name": "stdout",
     "output_type": "stream",
     "text": [
      "start dump /private/var/containers/Bundle/Application/A7D42304-5466-4809-A444-C046D00607AC/掌雲書城.app/Frameworks/SDWebImageFLPlugin.framework/SDWebImageFLPlugin\n",
      "start dump /private/var/containers/Bundle/Application/A7D42304-5466-4809-A444-C046D00607AC/掌雲書城.app/Frameworks/SQLCipher.framework/SQLCipher\n"
     ]
    },
    {
     "name": "stderr",
     "output_type": "stream",
     "text": [
      "\r",
      "SDWebImageFLPlugin.fid: 100%|██████████| 101k/101k [00:00<00:00, 950kB/s]\n",
      "\r",
      "0.00B [00:00, ?B/s]\r",
      "SQLCipher.fid:   9%|▉         | 112k/1.25M [00:00<00:01, 1.14MB/s]\r",
      "SQLCipher.fid: 100%|██████████| 1.25M/1.25M [00:00<00:00, 9.06MB/s]\n",
      "\r",
      "0.00B [00:00, ?B/s]"
     ]
    },
    {
     "name": "stdout",
     "output_type": "stream",
     "text": [
      "start dump /private/var/containers/Bundle/Application/A7D42304-5466-4809-A444-C046D00607AC/掌雲書城.app/Frameworks/SSZipArchive.framework/SSZipArchive\n",
      "start dump /private/var/containers/Bundle/Application/A7D42304-5466-4809-A444-C046D00607AC/掌雲書城.app/Frameworks/SZTextView.framework/SZTextView\n"
     ]
    },
    {
     "name": "stderr",
     "output_type": "stream",
     "text": [
      "\r",
      "SSZipArchive.fid: 100%|██████████| 219k/219k [00:00<00:00, 1.93MB/s]\n",
      "\r",
      "0.00B [00:00, ?B/s]\r",
      "SZTextView.fid: 100%|██████████| 108k/108k [00:00<00:00, 1.15MB/s]\n",
      "\r",
      "0.00B [00:00, ?B/s]"
     ]
    },
    {
     "name": "stdout",
     "output_type": "stream",
     "text": [
      "start dump /private/var/containers/Bundle/Application/A7D42304-5466-4809-A444-C046D00607AC/掌雲書城.app/Frameworks/TTGTagCollectionView.framework/TTGTagCollectionView\n",
      "start dump /private/var/containers/Bundle/Application/A7D42304-5466-4809-A444-C046D00607AC/掌雲書城.app/Frameworks/TTTAttributedLabel.framework/TTTAttributedLabel\n"
     ]
    },
    {
     "name": "stderr",
     "output_type": "stream",
     "text": [
      "\r",
      "TTGTagCollectionView.fid: 100%|██████████| 175k/175k [00:00<00:00, 1.73MB/s]\n",
      "\r",
      "0.00B [00:00, ?B/s]\r",
      "TTTAttributedLabel.fid: 100%|██████████| 187k/187k [00:00<00:00, 1.76MB/s]\n",
      "\r",
      "0.00B [00:00, ?B/s]"
     ]
    },
    {
     "name": "stdout",
     "output_type": "stream",
     "text": [
      "start dump /private/var/containers/Bundle/Application/A7D42304-5466-4809-A444-C046D00607AC/掌雲書城.app/Frameworks/TZImagePickerController.framework/TZImagePickerController\n",
      "start dump /private/var/containers/Bundle/Application/A7D42304-5466-4809-A444-C046D00607AC/掌雲書城.app/Frameworks/Toast.framework/Toast\n"
     ]
    },
    {
     "name": "stderr",
     "output_type": "stream",
     "text": [
      "\r",
      "TZImagePickerController.fid:  17%|█▋        | 112k/663k [00:00<00:00, 1.14MB/s]\r",
      "TZImagePickerController.fid: 100%|██████████| 663k/663k [00:00<00:00, 5.36MB/s]\n",
      "\r",
      "0.00B [00:00, ?B/s]\r",
      "Toast.fid:  25%|██▌       | 32.0k/128k [00:00<00:00, 327kB/s]\r",
      "Toast.fid: 100%|██████████| 128k/128k [00:00<00:00, 1.08MB/s]\n",
      "\r",
      "0.00B [00:00, ?B/s]"
     ]
    },
    {
     "name": "stdout",
     "output_type": "stream",
     "text": [
      "start dump /private/var/containers/Bundle/Application/A7D42304-5466-4809-A444-C046D00607AC/掌雲書城.app/Frameworks/UICKeyChainStore.framework/UICKeyChainStore\n",
      "start dump /private/var/containers/Bundle/Application/A7D42304-5466-4809-A444-C046D00607AC/掌雲書城.app/Frameworks/YBPopupMenu.framework/YBPopupMenu\n"
     ]
    },
    {
     "name": "stderr",
     "output_type": "stream",
     "text": [
      "\r",
      "UICKeyChainStore.fid:  10%|█         | 16.0k/153k [00:00<00:00, 162kB/s]\r",
      "UICKeyChainStore.fid: 100%|██████████| 153k/153k [00:00<00:00, 1.26MB/s]\n",
      "\r",
      "0.00B [00:00, ?B/s]\r",
      "YBPopupMenu.fid:   9%|▉         | 16.0k/180k [00:00<00:01, 159kB/s]\r",
      "YBPopupMenu.fid: 100%|██████████| 180k/180k [00:00<00:00, 1.44MB/s]\n",
      "\r",
      "0.00B [00:00, ?B/s]"
     ]
    },
    {
     "name": "stdout",
     "output_type": "stream",
     "text": [
      "start dump /private/var/containers/Bundle/Application/A7D42304-5466-4809-A444-C046D00607AC/掌雲書城.app/Frameworks/YTKKeyValueStore.framework/YTKKeyValueStore\n",
      "start dump /private/var/containers/Bundle/Application/A7D42304-5466-4809-A444-C046D00607AC/掌雲書城.app/Frameworks/YTKNetwork.framework/YTKNetwork\n"
     ]
    },
    {
     "name": "stderr",
     "output_type": "stream",
     "text": [
      "\r",
      "YTKKeyValueStore.fid:  14%|█▍        | 16.0k/115k [00:00<00:00, 162kB/s]\r",
      "YTKKeyValueStore.fid: 100%|██████████| 115k/115k [00:00<00:00, 958kB/s] \n",
      "\r",
      "0.00B [00:00, ?B/s]\r",
      "YTKNetwork.fid:   7%|▋         | 16.0k/218k [00:00<00:01, 160kB/s]\r",
      "YTKNetwork.fid: 100%|██████████| 218k/218k [00:00<00:00, 1.75MB/s]\n",
      "\r",
      "0.00B [00:00, ?B/s]"
     ]
    },
    {
     "name": "stdout",
     "output_type": "stream",
     "text": [
      "start dump /private/var/containers/Bundle/Application/A7D42304-5466-4809-A444-C046D00607AC/掌雲書城.app/Frameworks/YYModel.framework/YYModel\n",
      "start dump /private/var/containers/Bundle/Application/A7D42304-5466-4809-A444-C046D00607AC/掌雲書城.app/Frameworks/YYText.framework/YYText\n"
     ]
    },
    {
     "name": "stderr",
     "output_type": "stream",
     "text": [
      "\r",
      "YYModel.fid:   9%|▉         | 16.0k/174k [00:00<00:00, 163kB/s]\r",
      "YYModel.fid: 100%|██████████| 174k/174k [00:00<00:00, 1.35MB/s]\n",
      "\r",
      "0.00B [00:00, ?B/s]\r",
      "YYText.fid:   2%|▏         | 16.0k/955k [00:00<00:05, 160kB/s]\r",
      "YYText.fid: 100%|██████████| 955k/955k [00:00<00:00, 7.07MB/s]\n",
      "\r",
      "0.00B [00:00, ?B/s]"
     ]
    },
    {
     "name": "stdout",
     "output_type": "stream",
     "text": [
      "start dump /private/var/containers/Bundle/Application/A7D42304-5466-4809-A444-C046D00607AC/掌雲書城.app/Frameworks/iCarousel.framework/iCarousel\n",
      "start dump /private/var/containers/Bundle/Application/A7D42304-5466-4809-A444-C046D00607AC/掌雲書城.app/Frameworks/nanopb.framework/nanopb\n"
     ]
    },
    {
     "name": "stderr",
     "output_type": "stream",
     "text": [
      "iCarousel.fid: 100%|██████████| 153k/153k [00:00<00:00, 1.26MB/s]\n",
      "nanopb.fid: 100%|██████████| 79.9k/79.9k [00:00<00:00, 696kB/s]\n",
      "ZYSCBookshelfTWRecommendReuseableView.nib: 63.8MB [00:13, 5.01MB/s]               \n",
      "0.00B [00:00, ?B/s]\n"
     ]
    },
    {
     "name": "stdout",
     "output_type": "stream",
     "text": [
      "Generating \"掌雲書城 -- cn.zhangyunbook.inovel.ipa\"\n",
      "idx= 101\n",
      "Start the target app com.kingway.GotchaTransit\n",
      "Dumping 樂客轉乘通 to /var/folders/42/14b610s56kqckbgzdq8gf5m80000gn/T\n",
      "[frida-ios-dump]: libswiftDarwin.dylib has been dlopen.\n",
      "[frida-ios-dump]: libswiftUIKit.dylib has been dlopen.\n",
      "[frida-ios-dump]: libswiftCoreImage.dylib has been dlopen.\n",
      "[frida-ios-dump]: Load Alamofire.framework success. \n",
      "[frida-ios-dump]: Load KissXML.framework success. \n",
      "[frida-ios-dump]: libswiftos.dylib has been dlopen.\n",
      "[frida-ios-dump]: libswiftObjectiveC.dylib has been dlopen.\n",
      "[frida-ios-dump]: libswiftCoreGraphics.dylib has been dlopen.\n",
      "[frida-ios-dump]: libswiftCore.dylib has been dlopen.\n",
      "[frida-ios-dump]: libswiftCoreFoundation.dylib has been dlopen.\n",
      "[frida-ios-dump]: libswiftCoreLocation.dylib has been dlopen.\n",
      "[frida-ios-dump]: libswiftMetal.dylib has been dlopen.\n",
      "[frida-ios-dump]: libswiftQuartzCore.dylib has been dlopen.\n",
      "[frida-ios-dump]: libswiftFoundation.dylib has been dlopen.\n",
      "[frida-ios-dump]: libswiftDispatch.dylib has been dlopen.\n",
      "start dump /var/containers/Bundle/Application/545F8B99-0A98-47D3-BE7B-69E3C7C7FA05/GotchaTransit.app/GotchaTransit\n"
     ]
    },
    {
     "name": "stderr",
     "output_type": "stream",
     "text": [
      "GotchaTransit.fid: 100%|██████████| 1.20M/1.20M [00:01<00:00, 638kB/s] \n",
      "Alamofire.fid: 100%|██████████| 587k/587k [00:00<00:00, 4.34MB/s]\n",
      "0.00B [00:00, ?B/s]"
     ]
    },
    {
     "name": "stdout",
     "output_type": "stream",
     "text": [
      "start dump /private/var/containers/Bundle/Application/545F8B99-0A98-47D3-BE7B-69E3C7C7FA05/GotchaTransit.app/Frameworks/Alamofire.framework/Alamofire\n",
      "start dump /private/var/containers/Bundle/Application/545F8B99-0A98-47D3-BE7B-69E3C7C7FA05/GotchaTransit.app/Frameworks/KissXML.framework/KissXML\n"
     ]
    },
    {
     "name": "stderr",
     "output_type": "stream",
     "text": [
      "\r",
      "KissXML.fid: 100%|██████████| 111k/111k [00:00<00:00, 975kB/s]\n",
      "\r",
      "0.00B [00:00, ?B/s]\r",
      "libswiftCore.dylib.fid:   0%|          | 16.0k/3.91M [00:00<00:25, 158kB/s]"
     ]
    },
    {
     "name": "stdout",
     "output_type": "stream",
     "text": [
      "start dump /private/var/containers/Bundle/Application/545F8B99-0A98-47D3-BE7B-69E3C7C7FA05/GotchaTransit.app/Frameworks/libswiftCore.dylib\n"
     ]
    },
    {
     "name": "stderr",
     "output_type": "stream",
     "text": [
      "\r",
      "libswiftCore.dylib.fid: 100%|██████████| 3.91M/3.91M [00:00<00:00, 19.1MB/s]\n",
      "\r",
      "0.00B [00:00, ?B/s]\r",
      "libswiftCoreFoundation.dylib.fid:  23%|██▎       | 16.0k/68.7k [00:00<00:00, 163kB/s]\r",
      "libswiftCoreFoundation.dylib.fid: 100%|██████████| 68.7k/68.7k [00:00<00:00, 603kB/s]\n",
      "\r",
      "0.00B [00:00, ?B/s]"
     ]
    },
    {
     "name": "stdout",
     "output_type": "stream",
     "text": [
      "start dump /private/var/containers/Bundle/Application/545F8B99-0A98-47D3-BE7B-69E3C7C7FA05/GotchaTransit.app/Frameworks/libswiftCoreFoundation.dylib\n",
      "start dump /private/var/containers/Bundle/Application/545F8B99-0A98-47D3-BE7B-69E3C7C7FA05/GotchaTransit.app/Frameworks/libswiftCoreGraphics.dylib\n"
     ]
    },
    {
     "name": "stderr",
     "output_type": "stream",
     "text": [
      "\r",
      "libswiftCoreGraphics.dylib.fid:  12%|█▏        | 16.0k/134k [00:00<00:00, 151kB/s]\r",
      "libswiftCoreGraphics.dylib.fid: 100%|██████████| 134k/134k [00:00<00:00, 983kB/s] \n",
      "\r",
      "0.00B [00:00, ?B/s]\r",
      "libswiftCoreImage.dylib.fid: 100%|██████████| 69.1k/69.1k [00:00<00:00, 623kB/s]\n",
      "\r",
      "0.00B [00:00, ?B/s]"
     ]
    },
    {
     "name": "stdout",
     "output_type": "stream",
     "text": [
      "start dump /private/var/containers/Bundle/Application/545F8B99-0A98-47D3-BE7B-69E3C7C7FA05/GotchaTransit.app/Frameworks/libswiftCoreImage.dylib\n",
      "start dump /private/var/containers/Bundle/Application/545F8B99-0A98-47D3-BE7B-69E3C7C7FA05/GotchaTransit.app/Frameworks/libswiftCoreLocation.dylib\n"
     ]
    },
    {
     "name": "stderr",
     "output_type": "stream",
     "text": [
      "\r",
      "libswiftCoreLocation.dylib.fid:  22%|██▏       | 16.0k/73.3k [00:00<00:00, 156kB/s]\r",
      "libswiftCoreLocation.dylib.fid: 100%|██████████| 73.3k/73.3k [00:00<00:00, 614kB/s]\n",
      "\r",
      "0.00B [00:00, ?B/s]\r",
      "libswiftDarwin.dylib.fid:  16%|█▋        | 16.0k/97.8k [00:00<00:00, 164kB/s]\r",
      "libswiftDarwin.dylib.fid: 100%|██████████| 97.8k/97.8k [00:00<00:00, 856kB/s]\n",
      "\r",
      "0.00B [00:00, ?B/s]"
     ]
    },
    {
     "name": "stdout",
     "output_type": "stream",
     "text": [
      "start dump /private/var/containers/Bundle/Application/545F8B99-0A98-47D3-BE7B-69E3C7C7FA05/GotchaTransit.app/Frameworks/libswiftDarwin.dylib\n",
      "start dump /private/var/containers/Bundle/Application/545F8B99-0A98-47D3-BE7B-69E3C7C7FA05/GotchaTransit.app/Frameworks/libswiftDispatch.dylib\n"
     ]
    },
    {
     "name": "stderr",
     "output_type": "stream",
     "text": [
      "\r",
      "libswiftDispatch.dylib.fid:  34%|███▎      | 64.0k/190k [00:00<00:00, 652kB/s]\r",
      "libswiftDispatch.dylib.fid: 100%|██████████| 190k/190k [00:00<00:00, 1.56MB/s]\n",
      "\r",
      "0.00B [00:00, ?B/s]\r",
      "libswiftFoundation.dylib.fid:   1%|          | 16.0k/1.68M [00:00<00:11, 154kB/s]\r",
      "libswiftFoundation.dylib.fid: 100%|██████████| 1.68M/1.68M [00:00<00:00, 10.7MB/s]\n",
      "\r",
      "0.00B [00:00, ?B/s]"
     ]
    },
    {
     "name": "stdout",
     "output_type": "stream",
     "text": [
      "start dump /private/var/containers/Bundle/Application/545F8B99-0A98-47D3-BE7B-69E3C7C7FA05/GotchaTransit.app/Frameworks/libswiftFoundation.dylib\n",
      "start dump /private/var/containers/Bundle/Application/545F8B99-0A98-47D3-BE7B-69E3C7C7FA05/GotchaTransit.app/Frameworks/libswiftMetal.dylib\n"
     ]
    },
    {
     "name": "stderr",
     "output_type": "stream",
     "text": [
      "\r",
      "libswiftMetal.dylib.fid: 100%|██████████| 73.5k/73.5k [00:00<00:00, 641kB/s]\n",
      "\r",
      "0.00B [00:00, ?B/s]\r",
      "libswiftObjectiveC.dylib.fid:  22%|██▏       | 16.0k/72.8k [00:00<00:00, 163kB/s]\r",
      "libswiftObjectiveC.dylib.fid: 100%|██████████| 72.8k/72.8k [00:00<00:00, 649kB/s]\n",
      "\r",
      "0.00B [00:00, ?B/s]"
     ]
    },
    {
     "name": "stdout",
     "output_type": "stream",
     "text": [
      "start dump /private/var/containers/Bundle/Application/545F8B99-0A98-47D3-BE7B-69E3C7C7FA05/GotchaTransit.app/Frameworks/libswiftObjectiveC.dylib\n",
      "start dump /private/var/containers/Bundle/Application/545F8B99-0A98-47D3-BE7B-69E3C7C7FA05/GotchaTransit.app/Frameworks/libswiftQuartzCore.dylib\n"
     ]
    },
    {
     "name": "stderr",
     "output_type": "stream",
     "text": [
      "\r",
      "libswiftQuartzCore.dylib.fid:  23%|██▎       | 16.0k/70.2k [00:00<00:00, 158kB/s]\r",
      "libswiftQuartzCore.dylib.fid: 100%|██████████| 70.2k/70.2k [00:00<00:00, 605kB/s]\n",
      "\r",
      "0.00B [00:00, ?B/s]\r",
      "libswiftUIKit.dylib.fid:  27%|██▋       | 32.0k/119k [00:00<00:00, 327kB/s]\r",
      "libswiftUIKit.dylib.fid: 100%|██████████| 119k/119k [00:00<00:00, 996kB/s] \n",
      "\r",
      "0.00B [00:00, ?B/s]"
     ]
    },
    {
     "name": "stdout",
     "output_type": "stream",
     "text": [
      "start dump /private/var/containers/Bundle/Application/545F8B99-0A98-47D3-BE7B-69E3C7C7FA05/GotchaTransit.app/Frameworks/libswiftUIKit.dylib\n",
      "start dump /private/var/containers/Bundle/Application/545F8B99-0A98-47D3-BE7B-69E3C7C7FA05/GotchaTransit.app/Frameworks/libswiftos.dylib\n"
     ]
    },
    {
     "name": "stderr",
     "output_type": "stream",
     "text": [
      "libswiftos.dylib.fid: 100%|██████████| 74.4k/74.4k [00:00<00:00, 594kB/s]\n",
      "select_button_02_on@2x.png: 15.0MB [00:03, 4.05MB/s]               \n",
      "0.00B [00:00, ?B/s]\n"
     ]
    },
    {
     "name": "stdout",
     "output_type": "stream",
     "text": [
      "Generating \"樂客轉乘通 -- com.kingway.GotchaTransit.ipa\"\n",
      "idx= 102\n",
      "Start the target app com.taobao.taobao4iphone\n",
      "Dumping 淘宝 to /var/folders/42/14b610s56kqckbgzdq8gf5m80000gn/T\n",
      "[frida-ios-dump]: dlopen libswift_Concurrency.dylib success. \n",
      "[frida-ios-dump]: Load UT_tnet.framework success. \n",
      "[frida-ios-dump]: Load JSONSwiftUI.framework success. \n",
      "[frida-ios-dump]: Load VrBase.framework success. \n",
      "[frida-ios-dump]: Load ALSharedExtension.framework success. \n",
      "[frida-ios-dump]: Load Unicorn.framework success. \n",
      "[frida-ios-dump]: Load AMNet.framework success. \n",
      "[frida-ios-dump]: Load FaceRecognition.framework success. \n",
      "[frida-ios-dump]: Load DiebetesPlusFramework.framework success. \n",
      "[frida-ios-dump]: Load AliMediaDynLib.framework success. \n",
      "[frida-ios-dump]: Load HLPTBiPhone.framework success. \n",
      "[frida-ios-dump]: Load TBWidgetCommon.framework success. \n",
      "[frida-ios-dump]: Load opencv2.framework success. \n",
      "[frida-ios-dump]: Load SimplePanoVr.framework success. \n",
      "start dump /var/containers/Bundle/Application/CD314B5E-405A-4E17-94B2-BE065C56EEEE/Taobao4iPhone.app/Taobao4iPhone\n"
     ]
    },
    {
     "name": "stderr",
     "output_type": "stream",
     "text": [
      "Taobao4iPhone.fid: 100%|██████████| 192M/192M [00:05<00:00, 34.3MB/s]   \n",
      "0.00B [00:00, ?B/s]"
     ]
    },
    {
     "name": "stdout",
     "output_type": "stream",
     "text": [
      "start dump /private/var/containers/Bundle/Application/CD314B5E-405A-4E17-94B2-BE065C56EEEE/Taobao4iPhone.app/Frameworks/ALSharedExtension.framework/ALSharedExtension\n",
      "start dump /private/var/containers/Bundle/Application/CD314B5E-405A-4E17-94B2-BE065C56EEEE/Taobao4iPhone.app/Frameworks/opencv2.framework/opencv2\n"
     ]
    },
    {
     "name": "stderr",
     "output_type": "stream",
     "text": [
      "\r",
      "ALSharedExtension.fid:  18%|█▊        | 16.0k/90.8k [00:00<00:00, 132kB/s]\r",
      "ALSharedExtension.fid: 100%|██████████| 90.8k/90.8k [00:00<00:00, 669kB/s]\n",
      "\r",
      "0.00B [00:00, ?B/s]\r",
      "opencv2.fid:   1%|          | 16.0k/2.57M [00:00<00:16, 160kB/s]\r",
      "opencv2.fid: 100%|██████████| 2.57M/2.57M [00:00<00:00, 14.9MB/s]\n",
      "\r",
      "0.00B [00:00, ?B/s]"
     ]
    },
    {
     "name": "stdout",
     "output_type": "stream",
     "text": [
      "start dump /private/var/containers/Bundle/Application/CD314B5E-405A-4E17-94B2-BE065C56EEEE/Taobao4iPhone.app/Frameworks/JSONSwiftUI.framework/JSONSwiftUI\n",
      "start dump /private/var/containers/Bundle/Application/CD314B5E-405A-4E17-94B2-BE065C56EEEE/Taobao4iPhone.app/Frameworks/TBWidgetCommon.framework/TBWidgetCommon\n"
     ]
    },
    {
     "name": "stderr",
     "output_type": "stream",
     "text": [
      "JSONSwiftUI.fid: 100%|██████████| 1.45M/1.45M [00:00<00:00, 10.5MB/s]\n",
      "TBWidgetCommon.fid: 100%|██████████| 2.41M/2.41M [00:00<00:00, 15.0MB/s]\n",
      "libswift_Concurrency.dylib.fid: 100%|██████████| 389k/389k [00:00<00:00, 3.19MB/s]\n",
      "0.00B [00:00, ?B/s]"
     ]
    },
    {
     "name": "stdout",
     "output_type": "stream",
     "text": [
      "start dump /var/containers/Bundle/Application/CD314B5E-405A-4E17-94B2-BE065C56EEEE/Taobao4iPhone.app/Frameworks/libswift_Concurrency.dylib\n",
      "start dump /var/containers/Bundle/Application/CD314B5E-405A-4E17-94B2-BE065C56EEEE/Taobao4iPhone.app/Frameworks/UT_tnet.framework/UT_tnet\n"
     ]
    },
    {
     "name": "stderr",
     "output_type": "stream",
     "text": [
      "\r",
      "UT_tnet.fid:  31%|███       | 16.0k/51.5k [00:00<00:00, 157kB/s]\r",
      "UT_tnet.fid: 100%|██████████| 51.5k/51.5k [00:00<00:00, 430kB/s]\n",
      "\r",
      "0.00B [00:00, ?B/s]\r",
      "VrBase.fid:   9%|▉         | 16.0k/171k [00:00<00:00, 160kB/s]\r",
      "VrBase.fid: 100%|██████████| 171k/171k [00:00<00:00, 1.46MB/s]\n",
      "\r",
      "0.00B [00:00, ?B/s]"
     ]
    },
    {
     "name": "stdout",
     "output_type": "stream",
     "text": [
      "start dump /var/containers/Bundle/Application/CD314B5E-405A-4E17-94B2-BE065C56EEEE/Taobao4iPhone.app/Frameworks/VrBase.framework/VrBase\n",
      "start dump /var/containers/Bundle/Application/CD314B5E-405A-4E17-94B2-BE065C56EEEE/Taobao4iPhone.app/Frameworks/Unicorn.framework/Unicorn\n"
     ]
    },
    {
     "name": "stderr",
     "output_type": "stream",
     "text": [
      "\r",
      "Unicorn.fid:   0%|          | 16.0k/4.55M [00:00<00:29, 164kB/s]\r",
      "Unicorn.fid:  89%|████████▉ | 4.06M/4.55M [00:00<00:00, 25.0MB/s]\r",
      "Unicorn.fid: 100%|██████████| 4.55M/4.55M [00:00<00:00, 20.9MB/s]\n",
      "\r",
      "0.00B [00:00, ?B/s]"
     ]
    },
    {
     "name": "stdout",
     "output_type": "stream",
     "text": [
      "start dump /var/containers/Bundle/Application/CD314B5E-405A-4E17-94B2-BE065C56EEEE/Taobao4iPhone.app/Frameworks/AMNet.framework/AMNet\n",
      "start dump /var/containers/Bundle/Application/CD314B5E-405A-4E17-94B2-BE065C56EEEE/Taobao4iPhone.app/Frameworks/FaceRecognition.framework/FaceRecognition\n"
     ]
    },
    {
     "name": "stderr",
     "output_type": "stream",
     "text": [
      "\r",
      "AMNet.fid:  21%|██        | 304k/1.41M [00:00<00:00, 3.11MB/s]\r",
      "AMNet.fid: 100%|██████████| 1.41M/1.41M [00:00<00:00, 10.2MB/s]\n",
      "\r",
      "0.00B [00:00, ?B/s]\r",
      "FaceRecognition.fid: 100%|██████████| 172k/172k [00:00<00:00, 1.51MB/s]\n",
      "\r",
      "0.00B [00:00, ?B/s]"
     ]
    },
    {
     "name": "stdout",
     "output_type": "stream",
     "text": [
      "start dump /var/containers/Bundle/Application/CD314B5E-405A-4E17-94B2-BE065C56EEEE/Taobao4iPhone.app/Frameworks/DiebetesPlusFramework.framework/DiebetesPlusFramework\n",
      "start dump /var/containers/Bundle/Application/CD314B5E-405A-4E17-94B2-BE065C56EEEE/Taobao4iPhone.app/Frameworks/AliMediaDynLib.framework/AliMediaDynLib\n"
     ]
    },
    {
     "name": "stderr",
     "output_type": "stream",
     "text": [
      "\r",
      "DiebetesPlusFramework.fid:  42%|████▏     | 112k/264k [00:00<00:00, 1.15MB/s]\r",
      "DiebetesPlusFramework.fid: 100%|██████████| 264k/264k [00:00<00:00, 2.27MB/s]\n",
      "\r",
      "0.00B [00:00, ?B/s]\r",
      "AliMediaDynLib.fid:  83%|████████▎ | 80.0k/96.2k [00:00<00:00, 817kB/s]\r",
      "AliMediaDynLib.fid: 100%|██████████| 96.2k/96.2k [00:00<00:00, 840kB/s]\n",
      "\r",
      "0.00B [00:00, ?B/s]"
     ]
    },
    {
     "name": "stdout",
     "output_type": "stream",
     "text": [
      "start dump /var/containers/Bundle/Application/CD314B5E-405A-4E17-94B2-BE065C56EEEE/Taobao4iPhone.app/Frameworks/HLPTBiPhone.framework/HLPTBiPhone\n",
      "start dump /var/containers/Bundle/Application/CD314B5E-405A-4E17-94B2-BE065C56EEEE/Taobao4iPhone.app/Frameworks/SimplePanoVr.framework/SimplePanoVr\n"
     ]
    },
    {
     "name": "stderr",
     "output_type": "stream",
     "text": [
      "HLPTBiPhone.fid: 100%|██████████| 111k/111k [00:00<00:00, 937kB/s] \n",
      "SimplePanoVr.fid: 100%|██████████| 195k/195k [00:00<00:00, 1.55MB/s]\n",
      "container_newface_campaign_sub.json: 232MB [00:40, 5.97MB/s]                \n",
      "0.00B [00:00, ?B/s]\n"
     ]
    },
    {
     "name": "stdout",
     "output_type": "stream",
     "text": [
      "Generating \"淘宝 -- com.taobao.taobao4iphone.ipa\"\n",
      "idx= 103\n",
      "Start the target app m.qidian.QDReaderAppStore\n",
      "Dumping 起点读书 to /var/folders/42/14b610s56kqckbgzdq8gf5m80000gn/T\n",
      "[frida-ios-dump]: Load Flutter.framework success. \n",
      "[frida-ios-dump]: Load YZSDKCore.framework success. \n",
      "[frida-ios-dump]: Load YZBaseSDK.framework success. \n",
      "[frida-ios-dump]: Load libpag.framework success. \n",
      "[frida-ios-dump]: Load QDReaderExtensionShared.framework success. \n",
      "[frida-ios-dump]: Load App.framework success. \n",
      "[frida-ios-dump]: Load ImSDK.framework success. \n",
      "start dump /var/containers/Bundle/Application/91BA1ECA-CC26-43B1-903E-0222564EFB61/QDReaderAppStore.app/QDReaderAppStore\n"
     ]
    },
    {
     "name": "stderr",
     "output_type": "stream",
     "text": [
      "QDReaderAppStore.fid: 100%|██████████| 99.0M/99.0M [00:03<00:00, 33.2MB/s]\n",
      "App.fid:   0%|          | 16.0k/6.32M [00:00<00:53, 123kB/s]"
     ]
    },
    {
     "name": "stdout",
     "output_type": "stream",
     "text": [
      "start dump /private/var/containers/Bundle/Application/91BA1ECA-CC26-43B1-903E-0222564EFB61/QDReaderAppStore.app/Frameworks/App.framework/App\n"
     ]
    },
    {
     "name": "stderr",
     "output_type": "stream",
     "text": [
      "\r",
      "App.fid:  66%|██████▌   | 4.16M/6.32M [00:00<00:00, 22.5MB/s]\r",
      "App.fid: 100%|██████████| 6.32M/6.32M [00:00<00:00, 21.6MB/s]\n",
      "\r",
      "0.00B [00:00, ?B/s]\r",
      "Flutter.fid:   2%|▏         | 192k/8.80M [00:00<00:04, 1.97MB/s]"
     ]
    },
    {
     "name": "stdout",
     "output_type": "stream",
     "text": [
      "start dump /private/var/containers/Bundle/Application/91BA1ECA-CC26-43B1-903E-0222564EFB61/QDReaderAppStore.app/Frameworks/Flutter.framework/Flutter\n"
     ]
    },
    {
     "name": "stderr",
     "output_type": "stream",
     "text": [
      "\r",
      "Flutter.fid:  49%|████▉     | 4.30M/8.80M [00:00<00:00, 26.1MB/s]\r",
      "Flutter.fid:  95%|█████████▌| 8.38M/8.80M [00:00<00:00, 33.7MB/s]\r",
      "Flutter.fid: 100%|██████████| 8.80M/8.80M [00:00<00:00, 28.1MB/s]\n",
      "\r",
      "0.00B [00:00, ?B/s]"
     ]
    },
    {
     "name": "stdout",
     "output_type": "stream",
     "text": [
      "start dump /private/var/containers/Bundle/Application/91BA1ECA-CC26-43B1-903E-0222564EFB61/QDReaderAppStore.app/Frameworks/ImSDK.framework/ImSDK\n"
     ]
    },
    {
     "name": "stderr",
     "output_type": "stream",
     "text": [
      "\r",
      "ImSDK.fid:   0%|          | 16.0k/5.87M [00:00<00:40, 150kB/s]\r",
      "ImSDK.fid:  69%|██████▉   | 4.06M/5.87M [00:00<00:00, 24.1MB/s]\r",
      "ImSDK.fid: 100%|██████████| 5.87M/5.87M [00:00<00:00, 22.6MB/s]\n",
      "\r",
      "0.00B [00:00, ?B/s]"
     ]
    },
    {
     "name": "stdout",
     "output_type": "stream",
     "text": [
      "start dump /private/var/containers/Bundle/Application/91BA1ECA-CC26-43B1-903E-0222564EFB61/QDReaderAppStore.app/Frameworks/YZBaseSDK.framework/YZBaseSDK\n",
      "start dump /private/var/containers/Bundle/Application/91BA1ECA-CC26-43B1-903E-0222564EFB61/QDReaderAppStore.app/Frameworks/YZSDKCore.framework/YZSDKCore\n"
     ]
    },
    {
     "name": "stderr",
     "output_type": "stream",
     "text": [
      "\r",
      "YZBaseSDK.fid:   2%|▏         | 16.0k/729k [00:00<00:04, 159kB/s]\r",
      "YZBaseSDK.fid: 100%|██████████| 729k/729k [00:00<00:00, 5.37MB/s]\n",
      "\r",
      "0.00B [00:00, ?B/s]\r",
      "YZSDKCore.fid:   3%|▎         | 16.0k/480k [00:00<00:02, 160kB/s]\r",
      "YZSDKCore.fid: 100%|██████████| 480k/480k [00:00<00:00, 3.73MB/s]\n",
      "\r",
      "0.00B [00:00, ?B/s]"
     ]
    },
    {
     "name": "stdout",
     "output_type": "stream",
     "text": [
      "start dump /private/var/containers/Bundle/Application/91BA1ECA-CC26-43B1-903E-0222564EFB61/QDReaderAppStore.app/Frameworks/libpag.framework/libpag\n"
     ]
    },
    {
     "name": "stderr",
     "output_type": "stream",
     "text": [
      "\r",
      "libpag.fid:   7%|▋         | 352k/4.64M [00:00<00:01, 3.59MB/s]\r",
      "libpag.fid:  94%|█████████▎| 4.34M/4.64M [00:00<00:00, 26.0MB/s]\r",
      "libpag.fid: 100%|██████████| 4.64M/4.64M [00:00<00:00, 21.9MB/s]\n",
      "\r",
      "0.00B [00:00, ?B/s]"
     ]
    },
    {
     "name": "stdout",
     "output_type": "stream",
     "text": [
      "start dump /private/var/containers/Bundle/Application/91BA1ECA-CC26-43B1-903E-0222564EFB61/QDReaderAppStore.app/Frameworks/QDReaderExtensionShared.framework/QDReaderExtensionShared\n"
     ]
    },
    {
     "name": "stderr",
     "output_type": "stream",
     "text": [
      "QDReaderExtensionShared.fid: 100%|██████████| 314k/314k [00:00<00:00, 2.54MB/s]\n",
      "qidian_logo.svg: 165MB [00:18, 9.36MB/s]                                  \n",
      "0.00B [00:00, ?B/s]\n"
     ]
    },
    {
     "name": "stdout",
     "output_type": "stream",
     "text": [
      "Generating \"起点读书 -- m.qidian.QDReaderAppStore.ipa\"\n"
     ]
    }
   ],
   "source": [
    "for idx, app_id in enumerate(app_ids[100:104],100):\n",
    "    print(\"idx= {}\".format(idx))\n",
    "    command = ['python' , 'dump.py' , '-u' , 'root' , '-P' , 'jj1216' , '-d' , \"./ipas\" , app_id]\n",
    "    cmd = subprocess.Popen(command)\n",
    "    cmd.communicate()"
   ]
  },
  {
   "cell_type": "code",
   "execution_count": null,
   "metadata": {},
   "outputs": [],
   "source": [
    "app_id = 'com.tencent.mqq'\n",
    "command = ['python' , 'dump.py' , '-u' , 'root' , '-P' , 'jj1216' , '-d' , \"./ipas\" , app_id]\n",
    "cmd = subprocess.Popen(command)\n",
    "cmd.communicate()"
   ]
  }
 ],
 "metadata": {
  "kernelspec": {
   "display_name": "Python 3 (ipykernel)",
   "language": "python",
   "name": "python3"
  },
  "language_info": {
   "codemirror_mode": {
    "name": "ipython",
    "version": 3
   },
   "file_extension": ".py",
   "mimetype": "text/x-python",
   "name": "python",
   "nbconvert_exporter": "python",
   "pygments_lexer": "ipython3",
   "version": "3.9.17"
  }
 },
 "nbformat": 4,
 "nbformat_minor": 2
}
